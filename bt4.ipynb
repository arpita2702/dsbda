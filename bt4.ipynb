{
  "nbformat": 4,
  "nbformat_minor": 0,
  "metadata": {
    "colab": {
      "provenance": []
    },
    "kernelspec": {
      "name": "python3",
      "display_name": "Python 3"
    },
    "language_info": {
      "name": "python"
    }
  },
  "cells": [
    {
      "cell_type": "code",
      "execution_count": null,
      "metadata": {
        "id": "WKiuK5uF1gDz"
      },
      "outputs": [],
      "source": [
        "pragma solidity ^0.8.7;\n",
        "// Creating a contract\n",
        "contract fback\n",
        "{\n",
        "// Declaring the state variable\n",
        "uint x;\n",
        "// Mapping of addresses to their balances\n",
        "mapping(address => uint) balance;\n",
        "// Creating a constructor\n",
        "constructor() \n",
        "{\n",
        "// Set x to default\n",
        "// value of 10\n",
        "x=10;\n",
        "}\n",
        "// Creating a function\n",
        "function SetX(uint _x) public returns(bool)\n",
        "{\n",
        "// Set x to the\n",
        "// value sent\n",
        "x=_x;\n",
        "return true;\n",
        "}\n",
        "// This fallback function\n",
        "// will keep all the Ether\n",
        "receive() external payable\n",
        "{\n",
        "balance[msg.sender] += msg.value;\n",
        "}\n",
        "}\n",
        "// Creating the sender contract\n",
        "contract Sender\n",
        "{\n",
        "function transfer() public payable\n",
        "{\n",
        "// Address of Fback contract\n",
        "address _receiver =\n",
        "0xbcD310867F1b74142c2f5776404b6bd97165FA56;\n",
        "// Transfers 100 Eth to above contract\n",
        "payable(_receiver).transfer(100);\n",
        "}\n",
        "}"
      ]
    }
  ]
}